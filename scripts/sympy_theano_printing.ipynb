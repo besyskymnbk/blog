{
 "metadata": {
  "name": "sympy_theano_printing"
 }, 
 "nbformat": 2, 
 "worksheets": [
  {
   "cells": [
    {
     "cell_type": "markdown", 
     "source": [
      "No one is good at everything.  That's why we have a society.", 
      "", 
      "No project is good at everything, that's why we have interfaces.  This is the first of  two posts that use `SymPy`, a library for symbolic mathematics, and `Theano`, a library for mathematical compilation to numeric code, together.  Each library does a few things really well.  Each library also over-reaches a bit and does a few things not-as-well.   Fortunately the two libraries can be used together quite effectively."
     ]
    }, 
    {
     "cell_type": "code", 
     "collapsed": true, 
     "input": [
      "from sympy.printing.theanocode import theano_function, theano_code", 
      "from sympy.utilities.autowrap import ufuncify", 
      "from sympy.utilities.lambdify import lambdify"
     ], 
     "language": "python", 
     "outputs": [], 
     "prompt_number": 1
    }, 
    {
     "cell_type": "code", 
     "collapsed": true, 
     "input": [
      "from sympy import *", 
      "%load_ext sympyprinting", 
      "x = Symbol('x')"
     ], 
     "language": "python", 
     "outputs": [], 
     "prompt_number": 2
    }, 
    {
     "cell_type": "code", 
     "collapsed": false, 
     "input": [
      "from sympy.physics.hydrogen import R_nl", 
      "expr = R_nl(3, 1, x, 6)", 
      "expr"
     ], 
     "language": "python", 
     "outputs": [
      {
       "latex": [
        "$$\\frac{8}{3} x \\left(- 4 x + 4\\right) e^{- 2 x}$$"
       ], 
       "output_type": "pyout", 
       "png": "[encoded data removed]", 
       "prompt_number": 3, 
       "text": [
        "", 
        "                -2\u22c5x", 
        "8\u22c5x\u22c5(-4\u22c5x + 4)\u22c5\u212f    ", 
        "\u2500\u2500\u2500\u2500\u2500\u2500\u2500\u2500\u2500\u2500\u2500\u2500\u2500\u2500\u2500\u2500\u2500\u2500\u2500\u2500", 
        "         3          "
       ]
      }
     ], 
     "prompt_number": 3
    }, 
    {
     "cell_type": "code", 
     "collapsed": true, 
     "input": [
      "fn_numpy   = lambdify(x, expr, 'numpy')", 
      "fn_fortran = ufuncify([x], expr)", 
      "fn_theano  = theano_function([x], [expr], dims={x: 1}, dtypes={x: 'float64'})"
     ], 
     "language": "python", 
     "outputs": [], 
     "prompt_number": 4
    }, 
    {
     "cell_type": "code", 
     "collapsed": false, 
     "input": [
      "from numpy import linspace", 
      "xx = linspace(0, 1, 5)", 
      "xx"
     ], 
     "language": "python", 
     "outputs": [
      {
       "output_type": "pyout", 
       "prompt_number": 5, 
       "text": [
        "[ 0.    0.25  0.5   0.75  1.  ]"
       ]
      }
     ], 
     "prompt_number": 5
    }, 
    {
     "cell_type": "code", 
     "collapsed": false, 
     "input": [
      "fn_numpy(xx)"
     ], 
     "language": "python", 
     "outputs": [
      {
       "output_type": "pyout", 
       "prompt_number": 6, 
       "text": [
        "[ 0.          1.21306132  0.98101184  0.44626032  0.        ]"
       ]
      }
     ], 
     "prompt_number": 6
    }, 
    {
     "cell_type": "code", 
     "collapsed": false, 
     "input": [
      "fn_fortran(xx)"
     ], 
     "language": "python", 
     "outputs": [
      {
       "output_type": "pyout", 
       "prompt_number": 7, 
       "text": [
        "[ 0.          1.21306132  0.98101184  0.44626032  0.        ]"
       ]
      }
     ], 
     "prompt_number": 7
    }, 
    {
     "cell_type": "code", 
     "collapsed": false, 
     "input": [
      "fn_theano(xx)"
     ], 
     "language": "python", 
     "outputs": [
      {
       "output_type": "pyout", 
       "prompt_number": 8, 
       "text": [
        "[ 0.          1.21306132  0.98101184  0.44626032  0.        ]"
       ]
      }
     ], 
     "prompt_number": 8
    }, 
    {
     "cell_type": "code", 
     "collapsed": false, 
     "input": [
      "from pylab import plot, show, legend, savefig", 
      "xx = linspace(0, 5, 50000)", 
      "plot(xx, fn_numpy(xx))", 
      "show()"
     ], 
     "language": "python", 
     "outputs": [
      {
       "output_type": "display_data", 
       "png": "[encoded data removed]"
      }
     ], 
     "prompt_number": 9
    }, 
    {
     "cell_type": "code", 
     "collapsed": false, 
     "input": [
      "% timeit fn_numpy(xx)"
     ], 
     "language": "python", 
     "outputs": [
      {
       "output_type": "stream", 
       "stream": "stdout", 
       "text": [
        "1000 loops, best of 3: 1.46 ms per loop"
       ]
      }
     ], 
     "prompt_number": 10
    }, 
    {
     "cell_type": "code", 
     "collapsed": false, 
     "input": [
      "% timeit fn_theano(xx)"
     ], 
     "language": "python", 
     "outputs": [
      {
       "output_type": "stream", 
       "stream": "stdout", 
       "text": [
        "1000 loops, best of 3: 1.11 ms per loop"
       ]
      }
     ], 
     "prompt_number": 11
    }, 
    {
     "cell_type": "code", 
     "collapsed": false, 
     "input": [
      "% timeit fn_fortran(xx)"
     ], 
     "language": "python", 
     "outputs": [
      {
       "output_type": "stream", 
       "stream": "stdout", 
       "text": [
        "1000 loops, best of 3: 1.06 ms per loop"
       ]
      }
     ], 
     "prompt_number": 12
    }, 
    {
     "cell_type": "code", 
     "collapsed": false, 
     "input": [
      "import theano", 
      "theano.printing.debugprint(theano_code(expr))"
     ], 
     "language": "python", 
     "outputs": [
      {
       "output_type": "stream", 
       "stream": "stdout", 
       "text": [
        "Elemwise{mul,no_inplace} [@A] ''   ", 
        " |Elemwise{true_div,no_inplace} [@B] ''   ", 
        " | |TensorConstant{8} [@C]", 
        " | |TensorConstant{3} [@D]", 
        " |x [@E]", 
        " |Elemwise{add,no_inplace} [@F] ''   ", 
        " | |TensorConstant{4} [@G]", 
        " | |Elemwise{mul,no_inplace} [@H] ''   ", 
        " |   |TensorConstant{-4} [@I]", 
        " |   |x [@E]", 
        " |Elemwise{exp,no_inplace} [@J] ''   ", 
        "   |Elemwise{mul,no_inplace} [@K] ''   ", 
        "     |TensorConstant{-2} [@L]", 
        "     |x [@E]"
       ]
      }
     ], 
     "prompt_number": 13
    }, 
    {
     "cell_type": "code", 
     "collapsed": false, 
     "input": [
      "outputs = expr, simplify(expr.diff(x))", 
      "outputs"
     ], 
     "language": "python", 
     "outputs": [
      {
       "output_type": "pyout", 
       "prompt_number": 14, 
       "text": [
        "", 
        "\u239b                -2\u22c5x     \u239b   2          \u239e  -2\u22c5x\u239e", 
        "\u239c8\u22c5x\u22c5(-4\u22c5x + 4)\u22c5\u212f      32\u22c5\u239d2\u22c5x  - 4\u22c5x + 1\u23a0\u22c5\u212f    \u239f", 
        "\u239c\u2500\u2500\u2500\u2500\u2500\u2500\u2500\u2500\u2500\u2500\u2500\u2500\u2500\u2500\u2500\u2500\u2500\u2500\u2500\u2500, \u2500\u2500\u2500\u2500\u2500\u2500\u2500\u2500\u2500\u2500\u2500\u2500\u2500\u2500\u2500\u2500\u2500\u2500\u2500\u2500\u2500\u2500\u2500\u2500\u2500\u239f", 
        "\u239d         3                        3            \u23a0"
       ]
      }
     ], 
     "prompt_number": 14
    }, 
    {
     "cell_type": "code", 
     "collapsed": true, 
     "input": [
      "fn_theano = theano_function([x], outputs, dims={x: 1}, dtypes={x: 'float64'})"
     ], 
     "language": "python", 
     "outputs": [], 
     "prompt_number": 15
    }, 
    {
     "cell_type": "code", 
     "collapsed": true, 
     "input": [
      "fn_numpy = lambdify([x], outputs, 'numpy')"
     ], 
     "language": "python", 
     "outputs": [], 
     "prompt_number": 16
    }, 
    {
     "cell_type": "code", 
     "collapsed": true, 
     "input": [
      "fn_fortrans = [ufuncify([x], output) for output in outputs]", 
      "fn_fortran = lambda xx: [fn_fortran(xx) for fn_fortran in fn_fortrans]"
     ], 
     "language": "python", 
     "outputs": [], 
     "prompt_number": 17
    }, 
    {
     "cell_type": "code", 
     "collapsed": false, 
     "input": [
      "for y in fn_theano(xx):", 
      "    plot(xx, y)", 
      "legend(['$R_{31}$', \"$R'_{31}$\"])", 
      "show()"
     ], 
     "language": "python", 
     "outputs": [
      {
       "output_type": "display_data", 
       "png": "[encoded data removed]"
      }
     ], 
     "prompt_number": 18
    }, 
    {
     "cell_type": "code", 
     "collapsed": false, 
     "input": [
      "% timeit fn_numpy(xx)"
     ], 
     "language": "python", 
     "outputs": [
      {
       "output_type": "stream", 
       "stream": "stdout", 
       "text": [
        "100 loops, best of 3: 2.96 ms per loop"
       ]
      }
     ], 
     "prompt_number": 19
    }, 
    {
     "cell_type": "code", 
     "collapsed": false, 
     "input": [
      "% timeit fn_theano(xx)"
     ], 
     "language": "python", 
     "outputs": [
      {
       "output_type": "stream", 
       "stream": "stdout", 
       "text": [
        "1000 loops, best of 3: 1.27 ms per loop"
       ]
      }
     ], 
     "prompt_number": 20
    }, 
    {
     "cell_type": "code", 
     "collapsed": false, 
     "input": [
      "% timeit fn_fortran(xx)"
     ], 
     "language": "python", 
     "outputs": [], 
     "prompt_number": "*"
    }, 
    {
     "cell_type": "code", 
     "collapsed": true, 
     "input": [], 
     "language": "python", 
     "outputs": [], 
     "prompt_number": "*"
    }
   ]
  }
 ]
}